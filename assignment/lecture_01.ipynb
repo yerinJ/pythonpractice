{
  "nbformat": 4,
  "nbformat_minor": 0,
  "metadata": {
    "colab": {
      "name": "lecture_01",
      "provenance": [],
      "collapsed_sections": []
    },
    "kernelspec": {
      "name": "python3",
      "display_name": "Python 3"
    },
    "language_info": {
      "name": "python"
    }
  },
  "cells": [
    {
      "cell_type": "code",
      "source": [
        "1+2\n",
        "box = 10\n",
        "print (box)"
      ],
      "metadata": {
        "id": "x4O5Met6Mb00",
        "colab": {
          "base_uri": "https://localhost:8080/"
        },
        "outputId": "3937320f-45d1-4b17-9508-ab3bcaf17837"
      },
      "execution_count": 11,
      "outputs": [
        {
          "output_type": "stream",
          "name": "stdout",
          "text": [
            "10\n"
          ]
        }
      ]
    },
    {
      "cell_type": "code",
      "source": [
        "print(\"결과값은\", 2*7, \"입니다.\")\n",
        "print(\"결과값은 2*7 입니다.\")"
      ],
      "metadata": {
        "colab": {
          "base_uri": "https://localhost:8080/"
        },
        "id": "6cnAeyiTOoFR",
        "outputId": "04ef3f56-6d94-4aa2-a416-5477fbe34b97"
      },
      "execution_count": 21,
      "outputs": [
        {
          "output_type": "stream",
          "name": "stdout",
          "text": [
            "결과값은 14 입니다.\n",
            "결과값은 2*7 입니다.\n"
          ]
        }
      ]
    },
    {
      "cell_type": "code",
      "source": [
        "ftemp = 115.0\n",
        "ctemp = (ftemp-32.0)*5.0/9.0\n",
        "print(ctemp)"
      ],
      "metadata": {
        "colab": {
          "base_uri": "https://localhost:8080/"
        },
        "id": "ueYvK7VaXFCQ",
        "outputId": "b563dad1-0af5-4cbc-8d48-6df7a5b6fc1c"
      },
      "execution_count": 22,
      "outputs": [
        {
          "output_type": "stream",
          "name": "stdout",
          "text": [
            "46.111111111111114\n"
          ]
        }
      ]
    },
    {
      "cell_type": "code",
      "source": [
        "print (\"안녕하세요?  여러분\")\n",
        "print (\"저는 파이썬을 무척 좋아합니다.\")\n",
        "print (\"9*8은 72 입니다.\" )\n",
        "print (\"안녕히 계세요.\")"
      ],
      "metadata": {
        "colab": {
          "base_uri": "https://localhost:8080/"
        },
        "id": "C9IU_HeCYrQK",
        "outputId": "b321b9dc-1471-45a4-feb0-554a4e190ecc"
      },
      "execution_count": 23,
      "outputs": [
        {
          "output_type": "stream",
          "name": "stdout",
          "text": [
            "안녕하세요?  여러분\n",
            "저는 파이썬을 무척 좋아합니다.\n",
            "9*8은 72 입니다.\n",
            "안녕히 계세요.\n"
          ]
        }
      ]
    },
    {
      "cell_type": "code",
      "source": [
        "print (''')"
      ],
      "metadata": {
        "id": "Anjx9fTLe0gM"
      },
      "execution_count": null,
      "outputs": []
    }
  ]
}